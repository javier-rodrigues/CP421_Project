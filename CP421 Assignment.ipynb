{
 "cells":[
  {
   "cell_type":"markdown",
   "source":[
    "# CP421_Project"
   ],
   "attachments":{},
   "metadata":{
    "datalore":{
     "node_id":"CP421_Project",
     "type":"MD",
     "hide_input_from_viewers":false,
     "hide_output_from_viewers":false,
     "sheet_delimiter":true
    }
   }
  },
  {
   "cell_type":"code",
   "source":[
    "import json\n",
    "import pandas as pd\n",
    "from tqdm import tqdm\n",
    "import numpy as np"
   ],
   "execution_count":1,
   "outputs":[],
   "metadata":{
    "datalore":{
     "node_id":"77RlZktzIR2SM58aga8VyS",
     "type":"CODE",
     "hide_input_from_viewers":true,
     "hide_output_from_viewers":true
    }
   }
  },
  {
   "cell_type":"code",
   "source":[
    "\n",
    "# File path (adjust if needed)\n",
    "file_path = \"resources\/arxiv-metadata-oai-snapshot.json\"\n",
    "\n",
    "# Desired category prefixes\n",
    "valid_prefixes = ['cs.', 'math.', 'stat.', 'physics.comp-']\n",
    "\n",
    "# Initialize storage\n",
    "filtered_data = []\n",
    "\n",
    "# Read and filter\n",
    "with open(file_path, 'r', encoding='utf-8') as f:\n",
    "    for line in tqdm(f, desc=\"Loading and filtering JSON\"):\n",
    "        try:\n",
    "            record = json.loads(line)\n",
    "            primary_cat = record.get(\"categories\", \"\").split()[0]\n",
    "            if any(primary_cat.startswith(prefix) for prefix in valid_prefixes):\n",
    "                filtered_data.append({\n",
    "                    \"id\": record.get(\"id\"),\n",
    "                    \"title\": record.get(\"title\", \"\").strip(),\n",
    "                    \"abstract\": record.get(\"abstract\", \"\").strip(),\n",
    "                    \"categories\": record.get(\"categories\"),\n",
    "                    \"authors\": record.get(\"authors_parsed\"),\n",
    "                    \"date\": record.get(\"update_date\", \"\")[:10]  # YYYY-MM-DD\n",
    "                })\n",
    "        except json.JSONDecodeError:\n",
    "            continue\n",
    "\n",
    "# Convert to DataFrame\n",
    "df = pd.DataFrame(filtered_data)\n",
    "print(\"Filtered Data Shape:\", df.shape)\n",
    "df.head()"
   ],
   "execution_count":2,
   "outputs":[
    {
     "name":"stderr",
     "text":[
      "\rLoading and filtering JSON: 0it [00:00, ?it\/s]\rLoading and filtering JSON: 1550it [00:00, 15498.91it\/s]\rLoading and filtering JSON: 4572it [00:00, 24149.67it\/s]\rLoading and filtering JSON: 6987it [00:00, 22795.44it\/s]\rLoading and filtering JSON: 9275it [00:00, 18337.94it\/s]\rLoading and filtering JSON: 11210it [00:00, 17507.02it\/s]\rLoading and filtering JSON: 15018it [00:00, 23468.41it\/s]\rLoading and filtering JSON: 19283it [00:00, 29082.97it\/s]\rLoading and filtering JSON: 22354it [00:00, 29378.07it\/s]\rLoading and filtering JSON: 27166it [00:01, 34907.57it\/s]\rLoading and filtering JSON: 31493it [00:01, 37385.61it\/s]\rLoading and filtering JSON: 35641it [00:01, 38601.60it\/s]\rLoading and filtering JSON: 39835it [00:01, 39593.53it\/s]\rLoading and filtering JSON: 43941it [00:01, 40030.34it\/s]\rLoading and filtering JSON: 48017it [00:01, 40248.10it\/s]\rLoading and filtering JSON: 52163it [00:01, 40608.71it\/s]\rLoading and filtering JSON: 56445it [00:01, 41270.52it\/s]\rLoading and filtering JSON: 60720it [00:01, 41711.47it\/s]\rLoading and filtering JSON: 65014it [00:01, 42078.59it\/s]\rLoading and filtering JSON: 69310it [00:02, 42340.67it\/s]\rLoading and filtering JSON: 73622it [00:02, 42568.93it\/s]\rLoading and filtering JSON: 77882it [00:02, 42012.67it\/s]\rLoading and filtering JSON: 82277it [00:02, 42586.22it\/s]\rLoading and filtering JSON: 86539it [00:02, 42503.00it\/s]\rLoading and filtering JSON: 90921it [00:02, 42892.03it\/s]\rLoading and filtering JSON: 95212it [00:02, 42775.21it\/s]\rLoading and filtering JSON: 99491it [00:02, 42401.72it\/s]\rLoading and filtering JSON: 103733it [00:02, 41761.47it\/s]\rLoading and filtering JSON: 107912it [00:02, 33571.04it\/s]\rLoading and filtering JSON: 112199it [00:03, 35921.31it\/s]\rLoading and filtering JSON: 116276it [00:03, 37199.61it\/s]\rLoading and filtering JSON: 120449it [00:03, 38443.41it\/s]\rLoading and filtering JSON: 124794it [00:03, 39853.17it\/s]\rLoading and filtering JSON: 128881it [00:03, 39460.62it\/s]\rLoading and filtering JSON: 132898it [00:03, 39259.59it\/s]\rLoading and filtering JSON: 137134it [00:03, 40154.72it\/s]\rLoading and filtering JSON: 141258it [00:03, 40470.38it\/s]\rLoading and filtering JSON: 145333it [00:03, 40259.38it\/s]\rLoading and filtering JSON: 149602it [00:04, 40966.83it\/s]\rLoading and filtering JSON: 153714it [00:04, 40475.87it\/s]\rLoading and filtering JSON: 157773it [00:04, 39732.92it\/s]\rLoading and filtering JSON: 161757it [00:04, 39691.70it\/s]\rLoading and filtering JSON: 165733it [00:04, 39209.96it\/s]\rLoading and filtering JSON: 169929it [00:04, 40014.77it\/s]\rLoading and filtering JSON: 174117it [00:04, 40563.81it\/s]\rLoading and filtering JSON: 178288it [00:04, 40861.03it\/s]\rLoading and filtering JSON: 182378it [00:04, 31179.56it\/s]\rLoading and filtering JSON: 186505it [00:05, 33648.88it\/s]\rLoading and filtering JSON: 190590it [00:05, 35513.48it\/s]\rLoading and filtering JSON: 194397it [00:05, 36203.23it\/s]\rLoading and filtering JSON: 198594it [00:05, 37806.93it\/s]\rLoading and filtering JSON: 202832it [00:05, 39107.05it\/s]\rLoading and filtering JSON: 206977it [00:05, 39783.59it\/s]\rLoading and filtering JSON: 211210it [00:05, 40526.25it\/s]\rLoading and filtering JSON: 215316it [00:05, 40178.38it\/s]\rLoading and filtering JSON: 219372it [00:05, 39855.26it\/s]\rLoading and filtering JSON: 223608it [00:05, 40587.99it\/s]\rLoading and filtering JSON: 227752it [00:06, 40836.70it\/s]\rLoading and filtering JSON: 232077it [00:06, 41551.09it\/s]\rLoading and filtering JSON: 236244it [00:06, 41375.29it\/s]\rLoading and filtering JSON: 240390it [00:06, 41047.55it\/s]\rLoading and filtering JSON: 244501it [00:06, 40994.57it\/s]\rLoading and filtering JSON: 248605it [00:06, 28387.32it\/s]\rLoading and filtering JSON: 252714it [00:06, 31271.06it\/s]\rLoading and filtering JSON: 256773it [00:06, 33552.89it\/s]\rLoading and filtering JSON: 260960it [00:06, 35707.63it\/s]\rLoading and filtering JSON: 265237it [00:07, 37608.56it\/s]\rLoading and filtering JSON: 269364it [00:07, 38627.54it\/s]\rLoading and filtering JSON: 273395it [00:07, 38696.04it\/s]\rLoading and filtering JSON: 277507it [00:07, 39389.88it\/s]\rLoading and filtering JSON: 281694it [00:07, 40110.05it\/s]\rLoading and filtering JSON: 285875it [00:07, 40607.92it\/s]\rLoading and filtering JSON: 290051it [00:07, 40943.76it\/s]\rLoading and filtering JSON: 294196it [00:07, 41091.51it\/s]\rLoading and filtering JSON: 298328it [00:07, 39039.40it\/s]\rLoading and filtering JSON: 302420it [00:08, 39542.91it\/s]\rLoading and filtering JSON: 306519it [00:08, 39963.28it\/s]\rLoading and filtering JSON: 310601it [00:08, 40213.02it\/s]\rLoading and filtering JSON: 314638it [00:08, 24281.40it\/s]\rLoading and filtering JSON: 318773it [00:08, 27744.17it\/s]\rLoading and filtering JSON: 322839it [00:08, 30643.99it\/s]\rLoading and filtering JSON: 326495it [00:08, 32076.45it\/s]\rLoading and filtering JSON: 330559it [00:08, 34282.35it\/s]\rLoading and filtering JSON: 334572it [00:09, 35854.65it\/s]\rLoading and filtering JSON: 338680it [00:09, 37298.69it\/s]\rLoading and filtering JSON: 342688it [00:09, 38087.39it\/s]\rLoading and filtering JSON: 346639it [00:09, 37642.35it\/s]\rLoading and filtering JSON: 350503it [00:09, 37708.88it\/s]\rLoading and filtering JSON: 354352it [00:09, 37934.18it\/s]\rLoading and filtering JSON: 358271it [00:09, 38295.98it\/s]\rLoading and filtering JSON: 362290it [00:09, 38852.95it\/s]\rLoading and filtering JSON: 366439it [00:09, 39633.59it\/s]\rLoading and filtering JSON: 370422it [00:09, 38345.93it\/s]\rLoading and filtering JSON: 374343it [00:10, 38594.77it\/s]\rLoading and filtering JSON: 378219it [00:10, 37811.46it\/s]\rLoading and filtering JSON: 382160it [00:10, 38275.67it\/s]\rLoading and filtering JSON: 386064it [00:10, 38497.14it\/s]\rLoading and filtering JSON: 390080it [00:10, 38982.61it\/s]\rLoading and filtering JSON: 393985it [00:10, 23203.21it\/s]\rLoading and filtering JSON: 397720it [00:10, 26052.52it\/s]\rLoading and filtering JSON: 401265it [00:10, 28147.01it\/s]\rLoading and filtering JSON: 405276it [00:11, 31039.68it\/s]\rLoading and filtering JSON: 409365it [00:11, 33568.55it\/s]\rLoading and filtering JSON: 413339it [00:11, 35220.78it\/s]\rLoading and filtering JSON: 417280it [00:11, 36379.60it\/s]\rLoading and filtering JSON: 421321it [00:11, 37520.61it\/s]\rLoading and filtering JSON: 425219it [00:11, 37182.34it\/s]\rLoading and filtering JSON: 429040it [00:11, 36382.46it\/s]\rLoading and filtering JSON: 433066it [00:11, 37486.49it\/s]\rLoading and filtering JSON: 437116it [00:11, 38350.84it\/s]\rLoading and filtering JSON: 441112it [00:12, 38819.72it\/s]\rLoading and filtering JSON: 445119it [00:12, 39186.67it\/s]\rLoading and filtering JSON: 449064it [00:12, 39232.55it\/s]\rLoading and filtering JSON: 453004it [00:12, 37939.68it\/s]\rLoading and filtering JSON: 456998it [00:12, 38517.20it\/s]\rLoading and filtering JSON: 460866it [00:12, 38250.93it\/s]\rLoading and filtering JSON: 464839it [00:12, 38682.13it\/s]\rLoading and filtering JSON: 468828it [00:12, 39035.86it\/s]\rLoading and filtering JSON: 472739it [00:12, 38299.11it\/s]\rLoading and filtering JSON: 476576it [00:12, 37078.22it\/s]\rLoading and filtering JSON: 480649it [00:13, 38131.59it\/s]\rLoading and filtering JSON: 484475it [00:13, 20368.17it\/s]\rLoading and filtering JSON: 488501it [00:13, 23989.75it\/s]\rLoading and filtering JSON: 492477it [00:13, 27244.16it\/s]\rLoading and filtering JSON: 496434it [00:13, 30049.91it\/s]\rLoading and filtering JSON: 500065it [00:13, 30960.06it\/s]\rLoading and filtering JSON: 503613it [00:13, 31884.69it\/s]\rLoading and filtering JSON: 507574it [00:14, 33940.37it\/s]\rLoading and filtering JSON: 511532it [00:14, 35491.90it\/s]\rLoading and filtering JSON: 515435it [00:14, 36485.45it\/s]\rLoading and filtering JSON: 519486it [00:14, 37640.82it\/s]\rLoading and filtering JSON: 523355it [00:14, 37154.37it\/s]\rLoading and filtering JSON: 527273it [00:14, 37739.43it\/s]\rLoading and filtering JSON: 531252it [00:14, 38335.11it\/s]\rLoading and filtering JSON: 535195it [00:14, 38631.22it\/s]\rLoading and filtering JSON: 539087it [00:14, 38635.62it\/s]\rLoading and filtering JSON: 542971it [00:14, 38357.56it\/s]\rLoading and filtering JSON: 546821it [00:15, 37453.17it\/s]\rLoading and filtering JSON: 550580it [00:15, 36803.57it\/s]\rLoading and filtering JSON: 554498it [00:15, 37493.34it\/s]\rLoading and filtering JSON: 558411it [00:15, 37969.46it\/s]\rLoading and filtering JSON: 562216it [00:15, 37104.56it\/s]\rLoading and filtering JSON: 566287it [00:15, 38154.47it\/s]\rLoading and filtering JSON: 570273it [00:15, 38653.57it\/s]\rLoading and filtering JSON: 574146it [00:15, 38439.42it\/s]\rLoading and filtering JSON: 577996it [00:15, 37435.05it\/s]\rLoading and filtering JSON: 581966it [00:16, 38086.64it\/s]\rLoading and filtering JSON: 585783it [00:16, 18790.99it\/s]\rLoading and filtering JSON: 589772it [00:16, 22408.99it\/s]\rLoading and filtering JSON: 593744it [00:16, 25813.69it\/s]\rLoading and filtering JSON: 597207it [00:16, 27484.82it\/s]\rLoading and filtering JSON: 600818it [00:16, 29527.49it\/s]\rLoading and filtering JSON: 604708it [00:16, 31895.04it\/s]\rLoading and filtering JSON: 608567it [00:17, 33670.92it\/s]\rLoading and filtering JSON: 612735it [00:17, 35871.14it\/s]\rLoading and filtering JSON: 616955it [00:17, 37648.22it\/s]\rLoading and filtering JSON: 620898it [00:17, 35769.09it\/s]\rLoading and filtering JSON: 624848it [00:17, 36803.20it\/s]\rLoading and filtering JSON: 628725it [00:17, 37359.77it\/s]\rLoading and filtering JSON: 632650it [00:17, 37903.66it\/s]\rLoading and filtering JSON: 636602it [00:17, 38368.43it\/s]\rLoading and filtering JSON: 640481it [00:17, 37890.17it\/s]\rLoading and filtering JSON: 644369it [00:17, 38179.23it\/s]\rLoading and filtering JSON: 648209it [00:18, 37856.71it\/s]\rLoading and filtering JSON: 652076it [00:18, 38095.25it\/s]\rLoading and filtering JSON: 655897it [00:18, 36114.09it\/s]\rLoading and filtering JSON: 659840it [00:18, 37059.16it\/s]\rLoading and filtering JSON: 663717it [00:18, 37553.31it\/s]\rLoading and filtering JSON: 667597it [00:18, 37917.76it\/s]\rLoading and filtering JSON: 671557it [00:18, 38411.60it\/s]\rLoading and filtering JSON: 675409it [00:18, 38249.58it\/s]\rLoading and filtering JSON: 679290it [00:18, 38406.91it\/s]\rLoading and filtering JSON: 683276it [00:19, 38837.38it\/s]\rLoading and filtering JSON: 687164it [00:19, 37596.94it\/s]\rLoading and filtering JSON: 690935it [00:19, 36745.52it\/s]\rLoading and filtering JSON: 694756it [00:19, 37168.18it\/s]\rLoading and filtering JSON: 698482it [00:19, 36161.93it\/s]\rLoading and filtering JSON: 702115it [00:19, 36206.77it\/s]\rLoading and filtering JSON: 705743it [00:20, 15644.20it\/s]\rLoading and filtering JSON: 709422it [00:20, 18872.06it\/s]\rLoading and filtering JSON: 712933it [00:20, 21777.61it\/s]\rLoading and filtering JSON: 716654it [00:20, 24920.17it\/s]\rLoading and filtering JSON: 720429it [00:20, 27811.02it\/s]\rLoading and filtering JSON: 724033it [00:20, 29813.89it\/s]\rLoading and filtering JSON: 727688it [00:20, 31550.15it\/s]\rLoading and filtering JSON: 731239it [00:20, 31108.43it\/s]\rLoading and filtering JSON: 735147it [00:20, 33245.64it\/s]\rLoading and filtering JSON: 739076it [00:21, 34919.57it\/s]\rLoading and filtering JSON: 742931it [00:21, 35947.87it\/s]\rLoading and filtering JSON: 746844it [00:21, 36863.01it\/s]\rLoading and filtering JSON: 750621it [00:21, 37018.69it\/s]\rLoading and filtering JSON: 754432it [00:21, 37333.08it\/s]\rLoading and filtering JSON: 758211it [00:21, 37452.20it\/s]\rLoading and filtering JSON: 761988it [00:21, 36189.87it\/s]\rLoading and filtering JSON: 765784it [00:21, 36701.67it\/s]\rLoading and filtering JSON: 769655it [00:21, 37288.41it\/s]\rLoading and filtering JSON: 773466it [00:21, 37529.70it\/s]\rLoading and filtering JSON: 777345it [00:22, 37899.20it\/s]\rLoading and filtering JSON: 781145it [00:22, 36924.47it\/s]\rLoading and filtering JSON: 784849it [00:22, 36272.64it\/s]\rLoading and filtering JSON: 788681it [00:22, 36859.59it\/s]\rLoading and filtering JSON: 792441it [00:22, 37074.38it\/s]\rLoading and filtering JSON: 796334it [00:22, 37621.65it\/s]\rLoading and filtering JSON: 800153it [00:22, 37788.74it\/s]\rLoading and filtering JSON: 803936it [00:22, 37666.94it\/s]\rLoading and filtering JSON: 807706it [00:22, 37198.64it\/s]\rLoading and filtering JSON: 811429it [00:22, 36051.75it\/s]\rLoading and filtering JSON: 815255it [00:23, 36691.93it\/s]\rLoading and filtering JSON: 819059it [00:23, 37086.74it\/s]\rLoading and filtering JSON: 822820it [00:23, 37238.27it\/s]\rLoading and filtering JSON: 826601it [00:23, 37406.49it\/s]\rLoading and filtering JSON: 830346it [00:23, 37391.35it\/s]\rLoading and filtering JSON: 834088it [00:23, 36976.40it\/s]\rLoading and filtering JSON: 837920it [00:23, 37368.18it\/s]\rLoading and filtering JSON: 841660it [00:24, 14380.23it\/s]\rLoading and filtering JSON: 845539it [00:24, 17809.07it\/s]\rLoading and filtering JSON: 848658it [00:24, 19486.23it\/s]\rLoading and filtering JSON: 852231it [00:24, 22546.00it\/s]\rLoading and filtering JSON: 855924it [00:24, 25593.90it\/s]\rLoading and filtering JSON: 859575it [00:24, 28130.67it\/s]\rLoading and filtering JSON: 863129it [00:24, 29977.59it\/s]\rLoading and filtering JSON: 866736it [00:25, 31574.96it\/s]\rLoading and filtering JSON: 870240it [00:25, 31171.43it\/s]\rLoading and filtering JSON: 873906it [00:25, 32662.47it\/s]\rLoading and filtering JSON: 877585it [00:25, 33814.80it\/s]\rLoading and filtering JSON: 881105it [00:25, 33831.01it\/s]\rLoading and filtering JSON: 884585it [00:25, 33777.78it\/s]\rLoading and filtering JSON: 888031it [00:25, 33475.56it\/s]\rLoading and filtering JSON: 891450it [00:25, 33680.48it\/s]\rLoading and filtering JSON: 895577it [00:25, 35897.57it\/s]\rLoading and filtering JSON: 899495it [00:25, 36822.59it\/s]\rLoading and filtering JSON: 903200it [00:26, 35398.19it\/s]\rLoading and filtering JSON: 906766it [00:26, 34186.22it\/s]\rLoading and filtering JSON: 910209it [00:26, 33951.12it\/s]\rLoading and filtering JSON: 913621it [00:26, 31574.62it\/s]\rLoading and filtering JSON: 916817it [00:26, 31609.23it\/s]\rLoading and filtering JSON: 920005it [00:26, 28831.94it\/s]\rLoading and filtering JSON: 922945it [00:26, 28050.28it\/s]\rLoading and filtering JSON: 926686it [00:26, 30551.99it\/s]\rLoading and filtering JSON: 930421it [00:26, 32442.61it\/s]\rLoading and filtering JSON: 934108it [00:27, 33701.82it\/s]\rLoading and filtering JSON: 937521it [00:27, 32788.66it\/s]\rLoading and filtering JSON: 940833it [00:27, 31915.90it\/s]\rLoading and filtering JSON: 944152it [00:27, 32276.02it\/s]\rLoading and filtering JSON: 947883it [00:27, 33727.10it\/s]\rLoading and filtering JSON: 951703it [00:27, 35030.17it\/s]\rLoading and filtering JSON: 955445it [00:27, 35732.76it\/s]\rLoading and filtering JSON: 959230it [00:27, 36358.37it\/s]\rLoading and filtering JSON: 963003it [00:27, 36758.45it\/s]\rLoading and filtering JSON: 966687it [00:27, 36631.00it\/s]\rLoading and filtering JSON: 970478it [00:28, 37005.49it\/s]\rLoading and filtering JSON: 974191it [00:28, 37040.67it\/s]\rLoading and filtering JSON: 977898it [00:28, 36401.21it\/s]\rLoading and filtering JSON: 981676it [00:28, 36806.90it\/s]\rLoading and filtering JSON: 985425it [00:28, 37007.11it\/s]\rLoading and filtering JSON: 989129it [00:29, 12413.27it\/s]\rLoading and filtering JSON: 992941it [00:29, 15621.00it\/s]\rLoading and filtering JSON: 996739it [00:29, 19003.22it\/s]\rLoading and filtering JSON: 1000020it [00:29, 21343.04it\/s]\rLoading and filtering JSON: 1003822it [00:29, 24705.43it\/s]\rLoading and filtering JSON: 1007588it [00:29, 27601.81it\/s]\rLoading and filtering JSON: 1011361it [00:29, 30053.40it\/s]\rLoading and filtering JSON: 1015099it [00:29, 31934.94it\/s]\rLoading and filtering JSON: 1018738it [00:30, 32312.87it\/s]\rLoading and filtering JSON: 1022283it [00:30, 32727.35it\/s]\rLoading and filtering JSON: 1026031it [00:30, 34043.33it\/s]\rLoading and filtering JSON: 1029710it [00:30, 34812.86it\/s]\rLoading and filtering JSON: 1033530it [00:30, 35782.74it\/s]\rLoading and filtering JSON: 1037219it [00:30, 36104.52it\/s]\rLoading and filtering JSON: 1041022it [00:30, 36668.47it\/s]\rLoading and filtering JSON: 1044734it [00:30, 35845.92it\/s]\rLoading and filtering JSON: 1048474it [00:30, 36298.52it\/s]\rLoading and filtering JSON: 1052130it [00:30, 36242.57it\/s]\rLoading and filtering JSON: 1055853it [00:31, 36530.81it\/s]\rLoading and filtering JSON: 1059584it [00:31, 36760.57it\/s]\rLoading and filtering JSON: 1063356it [00:31, 37043.95it\/s]\rLoading and filtering JSON: 1067068it [00:31, 35711.89it\/s]\rLoading and filtering JSON: 1070865it [00:31, 36367.64it\/s]\rLoading and filtering JSON: 1074610it [00:31, 36684.63it\/s]\rLoading and filtering JSON: 1078330it [00:31, 36831.63it\/s]\rLoading and filtering JSON: 1082117it [00:31, 37136.44it\/s]\rLoading and filtering JSON: 1085836it [00:31, 36639.55it\/s]\rLoading and filtering JSON: 1089526it [00:31, 36711.69it\/s]\rLoading and filtering JSON: 1093360it [00:32, 37191.05it\/s]\rLoading and filtering JSON: 1097082it [00:32, 36193.61it\/s]\rLoading and filtering JSON: 1100814it [00:32, 36516.19it\/s]\rLoading and filtering JSON: 1104489it [00:32, 36583.82it\/s]\rLoading and filtering JSON: 1108244it [00:32, 36859.43it\/s]\rLoading and filtering JSON: 1111934it [00:32, 36775.68it\/s]\rLoading and filtering JSON: 1115633it [00:32, 36838.53it\/s]\rLoading and filtering JSON: 1119319it [00:32, 34358.65it\/s]\rLoading and filtering JSON: 1123078it [00:32, 35272.25it\/s]\rLoading and filtering JSON: 1126823it [00:33, 35894.20it\/s]\rLoading and filtering JSON: 1130583it [00:33, 36389.32it\/s]\rLoading and filtering JSON: 1134239it [00:33, 36286.36it\/s]\rLoading and filtering JSON: 1137880it [00:33, 36235.35it\/s]\rLoading and filtering JSON: 1141568it [00:33, 36424.21it\/s]\rLoading and filtering JSON: 1145217it [00:33, 35943.53it\/s]\rLoading and filtering JSON: 1148999it [00:33, 36495.29it\/s]\rLoading and filtering JSON: 1152800it [00:33, 36934.49it\/s]\rLoading and filtering JSON: 1156551it [00:33, 37103.72it\/s]\rLoading and filtering JSON: 1160265it [00:34, 10711.72it\/s]\rLoading and filtering JSON: 1163871it [00:34, 13487.30it\/s]\rLoading and filtering JSON: 1167209it [00:34, 16177.90it\/s]\rLoading and filtering JSON: 1170914it [00:35, 19556.16it\/s]\rLoading and filtering JSON: 1174493it [00:35, 22605.43it\/s]\rLoading and filtering JSON: 1178235it [00:35, 25739.50it\/s]\rLoading and filtering JSON: 1181956it [00:35, 28400.30it\/s]\rLoading and filtering JSON: 1185507it [00:35, 30138.82it\/s]\rLoading and filtering JSON: 1189279it [00:35, 32125.93it\/s]\rLoading and filtering JSON: 1192894it [00:35, 32748.30it\/s]\rLoading and filtering JSON: 1196657it [00:35, 34100.80it\/s]\rLoading and filtering JSON: 1200278it [00:35, 32102.09it\/s]\rLoading and filtering JSON: 1203995it [00:35, 33483.64it\/s]\rLoading and filtering JSON: 1207687it [00:36, 34442.29it\/s]\rLoading and filtering JSON: 1211336it [00:36, 35024.85it\/s]\rLoading and filtering JSON: 1215091it [00:36, 35753.49it\/s]\rLoading and filtering JSON: 1218838it [00:36, 36248.32it\/s]\rLoading and filtering JSON: 1222502it [00:36, 36271.80it\/s]\rLoading and filtering JSON: 1226157it [00:36, 33429.92it\/s]\rLoading and filtering JSON: 1229830it [00:36, 34353.09it\/s]\rLoading and filtering JSON: 1233579it [00:36, 35248.22it\/s]\rLoading and filtering JSON: 1237334it [00:36, 35904.73it\/s]\rLoading and filtering JSON: 1241012it [00:37, 36159.45it\/s]\rLoading and filtering JSON: 1244650it [00:37, 33123.05it\/s]\rLoading and filtering JSON: 1248025it [00:37, 32995.19it\/s]\rLoading and filtering JSON: 1251368it [00:37, 32125.29it\/s]\rLoading and filtering JSON: 1254708it [00:37, 32452.95it\/s]\rLoading and filtering JSON: 1258090it [00:37, 32842.71it\/s]\rLoading and filtering JSON: 1261393it [00:37, 32638.22it\/s]\rLoading and filtering JSON: 1264670it [00:37, 32630.92it\/s]\rLoading and filtering JSON: 1267942it [00:37, 31766.73it\/s]\rLoading and filtering JSON: 1271129it [00:37, 31165.40it\/s]\rLoading and filtering JSON: 1274254it [00:38, 30948.15it\/s]\rLoading and filtering JSON: 1277424it [00:38, 31164.99it\/s]\rLoading and filtering JSON: 1280545it [00:38, 30548.66it\/s]\rLoading and filtering JSON: 1283605it [00:38, 29112.81it\/s]\rLoading and filtering JSON: 1287020it [00:38, 30540.57it\/s]\rLoading and filtering JSON: 1290114it [00:38, 30645.27it\/s]\rLoading and filtering JSON: 1293465it [00:38, 31479.38it\/s]\rLoading and filtering JSON: 1296698it [00:38, 31727.37it\/s]\rLoading and filtering JSON: 1300309it [00:38, 33022.79it\/s]\rLoading and filtering JSON: 1303994it [00:39, 34157.43it\/s]\rLoading and filtering JSON: 1307417it [00:39, 33595.06it\/s]\rLoading and filtering JSON: 1311079it [00:39, 34484.32it\/s]\rLoading and filtering JSON: 1314794it [00:39, 35272.65it\/s]\rLoading and filtering JSON: 1318460it [00:39, 35614.14it\/s]\rLoading and filtering JSON: 1322060it [00:39, 35720.57it\/s]\rLoading and filtering JSON: 1325766it [00:39, 36072.06it\/s]\rLoading and filtering JSON: 1329525it [00:39, 36523.32it\/s]\rLoading and filtering JSON: 1333179it [00:39, 36106.63it\/s]\rLoading and filtering JSON: 1336801it [00:39, 36139.28it\/s]\rLoading and filtering JSON: 1340492it [00:40, 36342.59it\/s]\rLoading and filtering JSON: 1344163it [00:40, 36450.78it\/s]\rLoading and filtering JSON: 1347917it [00:40, 36774.81it\/s]\rLoading and filtering JSON: 1351597it [00:40, 36780.81it\/s]\rLoading and filtering JSON: 1355276it [00:40, 36779.87it\/s]\rLoading and filtering JSON: 1358955it [00:40, 36781.97it\/s]\rLoading and filtering JSON: 1362634it [00:40, 36181.55it\/s]\rLoading and filtering JSON: 1366255it [00:41, 8618.82it\/s] \rLoading and filtering JSON: 1369929it [00:41, 11193.96it\/s]\rLoading and filtering JSON: 1373448it [00:42, 13969.96it\/s]\rLoading and filtering JSON: 1377096it [00:42, 17162.02it\/s]\rLoading and filtering JSON: 1380781it [00:42, 20478.22it\/s]\rLoading and filtering JSON: 1384443it [00:42, 23608.60it\/s]\rLoading and filtering JSON: 1388135it [00:42, 26496.12it\/s]\rLoading and filtering JSON: 1391773it [00:42, 28831.07it\/s]\rLoading and filtering JSON: 1395380it [00:42, 30653.11it\/s]\rLoading and filtering JSON: 1398960it [00:42, 31895.41it\/s]\rLoading and filtering JSON: 1402525it [00:42, 30697.05it\/s]\rLoading and filtering JSON: 1406250it [00:42, 32448.23it\/s]\rLoading and filtering JSON: 1409996it [00:43, 33832.18it\/s]\rLoading and filtering JSON: 1413712it [00:43, 34768.36it\/s]\rLoading and filtering JSON: 1417307it [00:43, 33513.50it\/s]\rLoading and filtering JSON: 1420983it [00:43, 34427.38it\/s]\rLoading and filtering JSON: 1424690it [00:43, 35185.34it\/s]\rLoading and filtering JSON: 1428394it [00:43, 35722.98it\/s]\rLoading and filtering JSON: 1432108it [00:43, 36137.40it\/s]\rLoading and filtering JSON: 1435750it [00:43, 36020.01it\/s]\rLoading and filtering JSON: 1439372it [00:43, 32420.66it\/s]\rLoading and filtering JSON: 1442694it [00:44, 28582.33it\/s]\rLoading and filtering JSON: 1445677it [00:44, 27681.78it\/s]\rLoading and filtering JSON: 1449306it [00:44, 29913.74it\/s]\rLoading and filtering JSON: 1452983it [00:44, 31766.83it\/s]\rLoading and filtering JSON: 1456245it [00:44, 29282.92it\/s]\rLoading and filtering JSON: 1459267it [00:44, 29531.73it\/s]\rLoading and filtering JSON: 1462882it [00:44, 31358.43it\/s]\rLoading and filtering JSON: 1466595it [00:44, 32989.60it\/s]\rLoading and filtering JSON: 1469947it [00:44, 33035.73it\/s]\rLoading and filtering JSON: 1473482it [00:45, 33697.39it\/s]\rLoading and filtering JSON: 1477077it [00:45, 34357.67it\/s]\rLoading and filtering JSON: 1480708it [00:45, 34932.47it\/s]\rLoading and filtering JSON: 1484344it [00:45, 35354.18it\/s]\rLoading and filtering JSON: 1487913it [00:45, 35452.84it\/s]\rLoading and filtering JSON: 1491467it [00:45, 34167.94it\/s]\rLoading and filtering JSON: 1495065it [00:45, 34693.87it\/s]\rLoading and filtering JSON: 1498688it [00:45, 35144.22it\/s]\rLoading and filtering JSON: 1502399it [00:45, 35723.27it\/s]\rLoading and filtering JSON: 1506080it [00:45, 36040.53it\/s]\rLoading and filtering JSON: 1509690it [00:46, 35651.01it\/s]\rLoading and filtering JSON: 1513260it [00:46, 34884.40it\/s]\rLoading and filtering JSON: 1516755it [00:46, 34633.93it\/s]\rLoading and filtering JSON: 1520223it [00:46, 34465.84it\/s]\rLoading and filtering JSON: 1523841it [00:46, 34966.75it\/s]\rLoading and filtering JSON: 1527444it [00:46, 35278.29it\/s]\rLoading and filtering JSON: 1531019it [00:46, 35411.48it\/s]\rLoading and filtering JSON: 1534562it [00:46, 34917.94it\/s]\rLoading and filtering JSON: 1538166it [00:46, 35244.79it\/s]\rLoading and filtering JSON: 1541721it [00:46, 35328.22it\/s]\rLoading and filtering JSON: 1545380it [00:47, 35696.85it\/s]\rLoading and filtering JSON: 1549024it [00:47, 35917.68it\/s]\rLoading and filtering JSON: 1552843it [00:47, 36594.54it\/s]\rLoading and filtering JSON: 1556743it [00:47, 37311.59it\/s]\rLoading and filtering JSON: 1560476it [00:47, 36206.92it\/s]\rLoading and filtering JSON: 1564105it [00:47, 36219.67it\/s]\rLoading and filtering JSON: 1567733it [00:47, 35935.90it\/s]\rLoading and filtering JSON: 1571331it [00:47, 35938.53it\/s]\rLoading and filtering JSON: 1574928it [00:47, 35395.34it\/s]\rLoading and filtering JSON: 1578471it [00:47, 35304.71it\/s]\rLoading and filtering JSON: 1582004it [00:48, 35019.87it\/s]\rLoading and filtering JSON: 1585733it [00:48, 35684.20it\/s]\rLoading and filtering JSON: 1589375it [00:48, 35898.37it\/s]\rLoading and filtering JSON: 1593019it [00:48, 36058.97it\/s]\rLoading and filtering JSON: 1596627it [00:48, 35416.12it\/s]"
     ],
     "output_type":"stream"
    }
   ],
   "metadata":{
    "datalore":{
     "node_id":"eLqnb7ZKYQPRp0WtsYZIp5",
     "type":"CODE",
     "hide_input_from_viewers":true,
     "hide_output_from_viewers":true
    }
   }
  },
  {
   "cell_type":"code",
   "source":[
    "#df = pd.read_csv(\"resources\/loaded_files.csv\")\n",
    "#df.head()"
   ],
   "execution_count":2,
   "outputs":[
    {
     "data":{
      "text\/html":[
       "<div>\n",
       "<style scoped>\n",
       "    .dataframe tbody tr th:only-of-type {\n",
       "        vertical-align: middle;\n",
       "    }\n",
       "\n",
       "    .dataframe tbody tr th {\n",
       "        vertical-align: top;\n",
       "    }\n",
       "\n",
       "    .dataframe thead th {\n",
       "        text-align: right;\n",
       "    }\n",
       "<\/style>\n",
       "<table border=\"1\" class=\"dataframe\">\n",
       "  <thead>\n",
       "    <tr style=\"text-align: right;\">\n",
       "      <th><\/th>\n",
       "      <th>Unnamed: 0<\/th>\n",
       "      <th>id<\/th>\n",
       "      <th>title<\/th>\n",
       "      <th>abstract<\/th>\n",
       "      <th>categories<\/th>\n",
       "      <th>authors<\/th>\n",
       "      <th>date<\/th>\n",
       "    <\/tr>\n",
       "  <\/thead>\n",
       "  <tbody>\n",
       "    <tr>\n",
       "      <th>0<\/th>\n",
       "      <td>0<\/td>\n",
       "      <td>704.0002<\/td>\n",
       "      <td>Sparsity-certifying Graph Decompositions<\/td>\n",
       "      <td>We describe a new algorithm, the $(k,\\ell)$-pe...<\/td>\n",
       "      <td>math.CO cs.CG<\/td>\n",
       "      <td>[['Streinu', 'Ileana', ''], ['Theran', 'Louis'...<\/td>\n",
       "      <td>2008-12-13<\/td>\n",
       "    <\/tr>\n",
       "    <tr>\n",
       "      <th>1<\/th>\n",
       "      <td>1<\/td>\n",
       "      <td>704.0004<\/td>\n",
       "      <td>A determinant of Stirling cycle numbers counts...<\/td>\n",
       "      <td>We show that a determinant of Stirling cycle n...<\/td>\n",
       "      <td>math.CO<\/td>\n",
       "      <td>[['Callan', 'David', '']]<\/td>\n",
       "      <td>2007-05-23<\/td>\n",
       "    <\/tr>\n",
       "    <tr>\n",
       "      <th>2<\/th>\n",
       "      <td>2<\/td>\n",
       "      <td>704.0005<\/td>\n",
       "      <td>From dyadic $\\Lambda_{\\alpha}$ to $\\Lambda_{\\a...<\/td>\n",
       "      <td>In this paper we show how to compute the $\\Lam...<\/td>\n",
       "      <td>math.CA math.FA<\/td>\n",
       "      <td>[['Abu-Shammala', 'Wael', ''], ['Torchinsky', ...<\/td>\n",
       "      <td>2013-10-15<\/td>\n",
       "    <\/tr>\n",
       "    <tr>\n",
       "      <th>3<\/th>\n",
       "      <td>3<\/td>\n",
       "      <td>704.0010<\/td>\n",
       "      <td>Partial cubes: structures, characterizations, ...<\/td>\n",
       "      <td>Partial cubes are isometric subgraphs of hyper...<\/td>\n",
       "      <td>math.CO<\/td>\n",
       "      <td>[['Ovchinnikov', 'Sergei', '']]<\/td>\n",
       "      <td>2007-05-23<\/td>\n",
       "    <\/tr>\n",
       "    <tr>\n",
       "      <th>4<\/th>\n",
       "      <td>4<\/td>\n",
       "      <td>704.0011<\/td>\n",
       "      <td>Computing genus 2 Hilbert-Siegel modular forms...<\/td>\n",
       "      <td>In this paper we present an algorithm for comp...<\/td>\n",
       "      <td>math.NT math.AG<\/td>\n",
       "      <td>[['Cunningham', 'Clifton', ''], ['Dembele', 'L...<\/td>\n",
       "      <td>2008-08-20<\/td>\n",
       "    <\/tr>\n",
       "  <\/tbody>\n",
       "<\/table>\n",
       "<\/div>"
      ]
     },
     "metadata":{},
     "output_type":"display_data"
    }
   ],
   "metadata":{
    "datalore":{
     "node_id":"FytYCqzSfZjHW2O6Zp8IEs",
     "type":"CODE",
     "hide_input_from_viewers":true,
     "hide_output_from_viewers":true
    }
   }
  },
  {
   "cell_type":"code",
   "source":[
    "\n",
    "# Drop null or empty abstracts\n",
    "df = df[df['abstract'].notnull() & df['abstract'].str.strip().ne('')]\n",
    "\n",
    "# Vectorized cleaning\n",
    "df[\"clean_abstract\"] = (\n",
    "    df[\"abstract\"]\n",
    "    .str.lower()\n",
    "    .str.replace(r'\\s+', ' ', regex=True)\n",
    "    .str.replace(r'[^a-z\\s]', '', regex=True)\n",
    "    .str.strip()\n",
    ")\n",
    "\n",
    "# Filter very short abstracts (≤20 words)\n",
    "mask_long_enough = df[\"clean_abstract\"].str.split().str.len() > 20\n",
    "df = df[mask_long_enough]\n",
    "\n",
    "print(\"Data after fast cleaning:\", df.shape)\n",
    "df[[\"title\", \"clean_abstract\"]].head(3)"
   ],
   "execution_count":3,
   "outputs":[
    {
     "name":"stdout",
     "text":[
      "Data after fast cleaning: (5, 8)\n"
     ],
     "output_type":"stream"
    },
    {
     "data":{
      "text\/html":[
       "<div>\n",
       "<style scoped>\n",
       "    .dataframe tbody tr th:only-of-type {\n",
       "        vertical-align: middle;\n",
       "    }\n",
       "\n",
       "    .dataframe tbody tr th {\n",
       "        vertical-align: top;\n",
       "    }\n",
       "\n",
       "    .dataframe thead th {\n",
       "        text-align: right;\n",
       "    }\n",
       "<\/style>\n",
       "<table border=\"1\" class=\"dataframe\">\n",
       "  <thead>\n",
       "    <tr style=\"text-align: right;\">\n",
       "      <th><\/th>\n",
       "      <th>title<\/th>\n",
       "      <th>clean_abstract<\/th>\n",
       "    <\/tr>\n",
       "  <\/thead>\n",
       "  <tbody>\n",
       "    <tr>\n",
       "      <th>0<\/th>\n",
       "      <td>Sparsity-certifying Graph Decompositions<\/td>\n",
       "      <td>we describe a new algorithm the kellpebble gam...<\/td>\n",
       "    <\/tr>\n",
       "    <tr>\n",
       "      <th>1<\/th>\n",
       "      <td>A determinant of Stirling cycle numbers counts...<\/td>\n",
       "      <td>we show that a determinant of stirling cycle n...<\/td>\n",
       "    <\/tr>\n",
       "    <tr>\n",
       "      <th>2<\/th>\n",
       "      <td>From dyadic $\\Lambda_{\\alpha}$ to $\\Lambda_{\\a...<\/td>\n",
       "      <td>in this paper we show how to compute the lambd...<\/td>\n",
       "    <\/tr>\n",
       "  <\/tbody>\n",
       "<\/table>\n",
       "<\/div>"
      ]
     },
     "metadata":{},
     "output_type":"display_data"
    }
   ],
   "metadata":{
    "datalore":{
     "node_id":"XwQgE6yRpCPQp3ApnFEtPx",
     "type":"CODE",
     "hide_input_from_viewers":true,
     "hide_output_from_viewers":true
    }
   }
  }
 ],
 "metadata":{
  "kernelspec":{
   "display_name":"Python",
   "language":"python",
   "name":"python"
  },
  "datalore":{
   "computation_mode":"JUPYTER",
   "package_manager":"pip",
   "base_environment":"default",
   "packages":[],
   "report_row_ids":[],
   "report_tabs":[],
   "version":4
  }
 },
 "nbformat":4,
 "nbformat_minor":4
}